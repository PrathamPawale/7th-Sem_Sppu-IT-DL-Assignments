{
 "cells": [
  {
   "cell_type": "markdown",
   "id": "5be80fc3",
   "metadata": {},
   "source": [
    "## Title : Object detection using Transfer Learning of CNN architectures"
   ]
  },
  {
   "cell_type": "markdown",
   "id": "fd6023c5",
   "metadata": {},
   "source": [
    "### Aim: Object detection using Transfer Learning of CNN architectures\n",
    "\n",
    "a. Load in a pre-trained CNN model trained on a large dataset\n",
    "\n",
    "b. Freeze parameters (weights) in model’s lower convolutional layers\n",
    "\n",
    "c. Add custom classifier with several layers of trainable parameters to model\n",
    "\n",
    "d. Train classifier layers on training data available for task\n",
    "\n",
    "e. Fine-tune hyper parameters and unfreeze more layers as needed"
   ]
  },
  {
   "cell_type": "markdown",
   "id": "456514ce",
   "metadata": {},
   "source": [
    "## YOLO (You Only Look Once)\n",
    "version__yoloV8 ultralytics"
   ]
  },
  {
   "cell_type": "code",
   "execution_count": null,
   "id": "ca5ca926",
   "metadata": {},
   "outputs": [],
   "source": []
  }
 ],
 "metadata": {
  "kernelspec": {
   "display_name": "Python 3 (ipykernel)",
   "language": "python",
   "name": "python3"
  },
  "language_info": {
   "codemirror_mode": {
    "name": "ipython",
    "version": 3
   },
   "file_extension": ".py",
   "mimetype": "text/x-python",
   "name": "python",
   "nbconvert_exporter": "python",
   "pygments_lexer": "ipython3",
   "version": "3.9.7"
  }
 },
 "nbformat": 4,
 "nbformat_minor": 5
}
